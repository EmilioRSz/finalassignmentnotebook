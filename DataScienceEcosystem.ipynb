{
 "cells": [
  {
   "cell_type": "markdown",
   "id": "9772939c-cb9e-4cbc-ae83-6ef850b2b06d",
   "metadata": {},
   "source": [
    " # Data Science Tools and Ecosystem\n"
   ]
  },
  {
   "cell_type": "markdown",
   "id": "aaf3810a-1c2b-4e3f-97f2-6279b8c86227",
   "metadata": {},
   "source": [
    "## Author\n",
    "Emilio Rivera Sánchez"
   ]
  },
  {
   "cell_type": "markdown",
   "id": "c3482736-6b28-49b1-973b-d5b433de0664",
   "metadata": {},
   "source": [
    "In this notebook, Data Science Tools and Ecosystem are summarized."
   ]
  },
  {
   "cell_type": "markdown",
   "id": "2335ae8b-80ff-4934-bf56-3e72ff34d3a2",
   "metadata": {},
   "source": [
    "**Objectives:**\n",
    "* List popular languages for Data Science\n",
    "* List some of the commomly libraries used for Data Scientists\n",
    "* Put a table with some of the popular Open Source Data Science Tools\n",
    "* Put examples of evaluating arithmetic expressions in Python"
   ]
  },
  {
   "cell_type": "markdown",
   "id": "1adc8252-164c-464d-87b4-8e3de4a55a30",
   "metadata": {},
   "source": [
    "Some of the popular languages that Data Scientists use are:\n",
    "1. Python\n",
    "2. R\n",
    "3. Julia\n",
    "4. Scala\n",
    "5. Java"
   ]
  },
  {
   "cell_type": "markdown",
   "id": "6d663244-a924-4aff-9871-cbadfa320bf6",
   "metadata": {},
   "source": [
    "Some of the commomly used libraries used by Data Scientists include:\n",
    "1. Numpy: For data manipulation\n",
    "2. Pandas: For data analysis and manipulation\n",
    "3. Matplotlib: For data visualization \n",
    "4. dplyr: For data manipulation in R\n",
    "5. ggplot2: For data visualization in R\n",
    "6. caret: For machine learning training"
   ]
  },
  {
   "cell_type": "markdown",
   "id": "fdd430b5-1b27-4cd1-864c-eab1d8b1edf7",
   "metadata": {},
   "source": [
    "|Data Science Tools|\n",
    "|------------------|\n",
    "|RStudio|\n",
    "|GitHub|\n",
    "|JupyterLab|\n",
    "|VS code|"
   ]
  },
  {
   "cell_type": "markdown",
   "id": "efc520ec-f50c-4ccb-9f69-e7f70fb8924e",
   "metadata": {},
   "source": [
    "### Below are a few examples of evaluating arithmetic expressions in Python"
   ]
  },
  {
   "cell_type": "code",
   "execution_count": 1,
   "id": "fe201620-09ba-4e3c-a5dd-8578629e490f",
   "metadata": {},
   "outputs": [
    {
     "data": {
      "text/plain": [
       "17"
      ]
     },
     "execution_count": 1,
     "metadata": {},
     "output_type": "execute_result"
    }
   ],
   "source": [
    "#This a simple arithmetic expression to multiply then add integers.\n",
    "(3*4)+5"
   ]
  },
  {
   "cell_type": "code",
   "execution_count": 2,
   "id": "ed9e9f46-e983-41f7-966b-3ffeb02fcf46",
   "metadata": {},
   "outputs": [
    {
     "data": {
      "text/plain": [
       "3.3333333333333335"
      ]
     },
     "execution_count": 2,
     "metadata": {},
     "output_type": "execute_result"
    }
   ],
   "source": [
    "#This will convert 200 minutes to hours by diving by 60\n",
    "200/60"
   ]
  }
 ],
 "metadata": {
  "kernelspec": {
   "display_name": "Python 3 (ipykernel)",
   "language": "python",
   "name": "python3"
  },
  "language_info": {
   "codemirror_mode": {
    "name": "ipython",
    "version": 3
   },
   "file_extension": ".py",
   "mimetype": "text/x-python",
   "name": "python",
   "nbconvert_exporter": "python",
   "pygments_lexer": "ipython3",
   "version": "3.11.7"
  }
 },
 "nbformat": 4,
 "nbformat_minor": 5
}
